{
  "cells": [
    {
      "cell_type": "markdown",
      "metadata": {
        "id": "f7444f30-0883-4a87-8e00-c5e5591a2a26"
      },
      "source": [
        "## Import"
      ],
      "id": "f7444f30-0883-4a87-8e00-c5e5591a2a26"
    },
    {
      "cell_type": "code",
      "execution_count": null,
      "metadata": {
        "colab": {
          "base_uri": "https://localhost:8080/"
        },
        "id": "b85832b1-9f31-41e4-b934-cc260e5b3b1d",
        "outputId": "13fe5f9d-8665-4329-b50c-b92d02a9047c"
      },
      "outputs": [
        {
          "output_type": "stream",
          "name": "stdout",
          "text": [
            "Drive already mounted at /content/drive; to attempt to forcibly remount, call drive.mount(\"/content/drive\", force_remount=True).\n"
          ]
        }
      ],
      "source": [
        "import random   # random 모듈을 가져옴 (난수 생성 등에 사용)\n",
        "import os       # os 모듈을 가져옴 (운영체제와 상호작용에 사용)\n",
        "import pandas as pd    # pandas 라이브러리를 가져옴 (데이터 분석과 조작에 사용)\n",
        "import numpy as np     # numpy 라이브러리를 가져옴 (수치 연산에 사용)\n",
        "from tqdm.auto import tqdm    # tqdm 라이브러리에서 tqdm.auto를 가져옴 (진행 상태를 표시하는데 사용)\n",
        "\n",
        "from sklearn.preprocessing import LabelEncoder    # scikit-learn 라이브러리에서 LabelEncoder를 가져옴 (라벨 인코딩에 사용)\n",
        "\n",
        "import torch   # PyTorch 라이브러리를 가져옴 (딥 러닝 프레임워크)\n",
        "import torch.nn as nn    # PyTorch에서 nn 모듈을 가져옴 (신경망 모델링에 사용)\n",
        "import torch.optim as optim    # PyTorch에서 optim 모듈을 가져옴 (최적화 알고리즘에 사용)\n",
        "import torch.nn.functional as F    # PyTorch에서 F 모듈을 가져옴 (신경망 함수에 사용)\n",
        "from torch.utils.data import Dataset, DataLoader, random_split    # PyTorch에서 Dataset과 DataLoader를 가져옴 (데이터셋과 데이터 로딩에 사용)\n",
        "from google.colab import drive\n",
        "drive.mount('/content/drive')\n",
        "# train data 바로 사용하기 위함(수정)\n",
        "import warnings\n",
        "warnings.filterwarnings(\"ignore\")\n"
      ],
      "id": "b85832b1-9f31-41e4-b934-cc260e5b3b1d"
    },
    {
      "cell_type": "code",
      "execution_count": null,
      "metadata": {
        "id": "b0259cfd-b37c-4716-aacf-c91d77e41480"
      },
      "outputs": [],
      "source": [
        "# device 변수에 GPU 디바이스를 할당하는 코드입니다.\n",
        "# torch.cuda.is_available() 함수를 사용하여 현재 시스템에서 GPU를 사용할 수 있는지 확인합니다.\n",
        "# 만약 GPU를 사용할 수 있다면, device에 'cuda' 문자열을 사용하여 GPU 디바이스를 할당합니다.\n",
        "# 그렇지 않은 경우, 'cpu' 문자열을 사용하여 CPU 디바이스를 할당합니다.\n",
        "# 이후 모델과 데이터를 device로 올려서 학습 또는 예측을 수행할 때 해당 디바이스를 사용합니다.\n",
        "# GPU를 사용할 수 있는 경우 GPU를 활용하여 연산을 가속화할 수 있습니다.\n",
        "\n",
        "device = torch.device('cuda') if torch.cuda.is_available() else torch.device('cpu')"
      ],
      "id": "b0259cfd-b37c-4716-aacf-c91d77e41480"
    },
    {
      "cell_type": "markdown",
      "metadata": {
        "id": "07c2d47b-e9da-47e5-9155-cce997e63481"
      },
      "source": [
        "## Hyperparameter Setting"
      ],
      "id": "07c2d47b-e9da-47e5-9155-cce997e63481"
    },
    {
      "cell_type": "code",
      "execution_count": null,
      "metadata": {
        "id": "c9f50013-6513-44fd-8e48-06dd12ec3f63"
      },
      "outputs": [],
      "source": [
        "# CFG는 하이퍼파라미터들을 저장하는 딕셔너리입니다.\n",
        "\n",
        "CFG = {\n",
        "    'TRAIN_WINDOW_SIZE': 110,  # LSTM 모델에 입력으로 사용될 학습 윈도우의 크기를 나타냅니다. 학습 윈도우의 크기는 90일로 설정되어 있습니다.\n",
        "    'PREDICT_SIZE': 21,       # LSTM 모델이 예측할 일 수를 나타냅니다. 예측 일 수는 21일로 설정되어 있습니다.\n",
        "    'EPOCHS': 12,             # 학습 과정에서 전체 데이터셋을 몇 번 반복할지를 나타냅니다. 학습 에포크 수는 10으로 설정되어 있습니다.\n",
        "    'LEARNING_RATE': 1e-4,    # 학습 과정에서 모델 파라미터를 업데이트하는 데 사용되는 학습률을 나타냅니다. 학습률은 0.0001로 설정되어 있습니다.\n",
        "    'BATCH_SIZE': 3000,       # 한 번의 학습 스텝에서 사용할 미니배치의 크기를 나타냅니다. 미니배치의 크기는 4096으로 설정되어 있습니다.\n",
        "    'SEED': 46                # 시드를 설정하기 위해 사용되는 값으로, 랜덤 요소를 고정하여 학습의 재현성을 보장합니다. 시드 값은 41로 설정되어 있습니다.\n",
        "}\n"
      ],
      "id": "c9f50013-6513-44fd-8e48-06dd12ec3f63"
    },
    {
      "cell_type": "code",
      "execution_count": null,
      "metadata": {
        "id": "44cdbe67-eda2-42ef-bc35-0a2bfd99f211"
      },
      "outputs": [],
      "source": [
        "import random\n",
        "import os\n",
        "import numpy as np\n",
        "import torch\n",
        "\n",
        "def seed_everything(seed):\n",
        "    \"\"\"\n",
        "    시드 값을 설정하여 랜덤 요소들을 고정하는 함수입니다.\n",
        "\n",
        "    Args:\n",
        "        seed (int): 재현성을 위해 사용할 시드 값입니다.\n",
        "    \"\"\"\n",
        "    random.seed(seed)                # random 모듈의 시드 값을 설정합니다.\n",
        "    os.environ['PYTHONHASHSEED'] = str(seed)  # 파이썬 해시 값의 시드를 설정합니다.\n",
        "    np.random.seed(seed)             # NumPy 모듈의 시드 값을 설정합니다.\n",
        "    torch.manual_seed(seed)          # Torch의 CPU 연산을 위한 시드 값을 설정합니다.\n",
        "    torch.cuda.manual_seed(seed)     # Torch의 GPU 연산을 위한 시드 값을 설정합니다.\n",
        "    torch.backends.cudnn.deterministic = True  # Torch에서 CuDNN 연산의 재현성을 보장하기 위해 설정합니다.\n",
        "    torch.backends.cudnn.benchmark = True     # Torch에서 CuDNN 연산을 더 빠르게 수행하도록 설정합니다.\n",
        "\n",
        "seed_everything(CFG['SEED'])  # CFG 딕셔너리에 저장된 SEED 값으로 시드를 설정합니다.\n"
      ],
      "id": "44cdbe67-eda2-42ef-bc35-0a2bfd99f211"
    },
    {
      "cell_type": "markdown",
      "metadata": {
        "id": "7d68c38e"
      },
      "source": [
        "### 데이터 불러오기"
      ],
      "id": "7d68c38e"
    },
    {
      "cell_type": "code",
      "execution_count": null,
      "metadata": {
        "id": "e3b89389"
      },
      "outputs": [],
      "source": [
        "\n",
        "train_data = pd.read_csv('/content/drive/MyDrive/Colab Notebooks/train.csv').drop(columns=['ID', '제품'])"
      ],
      "id": "e3b89389"
    },
    {
      "cell_type": "markdown",
      "metadata": {
        "id": "d21e80a6"
      },
      "source": [
        "### 데이터 전처리"
      ],
      "id": "d21e80a6"
    },
    {
      "cell_type": "code",
      "execution_count": null,
      "metadata": {
        "colab": {
          "base_uri": "https://localhost:8080/",
          "height": 49,
          "referenced_widgets": [
            "05c5996f2748438797c3566ea5a76bcc",
            "c6dc831452314b6cb461a4d08b221e18",
            "5970cfe88d364dd09017b2bcc562a4fb",
            "3e524272e1934d229f03ee21ec990275",
            "ddae6f41325344d7b9aaf028af7a3ece",
            "19bbe496ec39488bad95eee68b719f4f",
            "d345ce30a1c7462ba9e66e62062898ef",
            "6384eb65a1c24c2f8bfba3e34d1b9750",
            "a2993620c33046029e764e06dbbcfc3e",
            "ae8d9ddc7a8540ac8466356145492e14",
            "fbf6e02b9e814388882a1e59153b1d62"
          ]
        },
        "id": "9509bd54-9333-4ec7-b197-b70d3c1408ef",
        "outputId": "cfcec6f2-265f-4a33-87f9-d9a6cfccf70a"
      },
      "outputs": [
        {
          "output_type": "display_data",
          "data": {
            "text/plain": [
              "  0%|          | 0/15890 [00:00<?, ?it/s]"
            ],
            "application/vnd.jupyter.widget-view+json": {
              "version_major": 2,
              "version_minor": 0,
              "model_id": "05c5996f2748438797c3566ea5a76bcc"
            }
          },
          "metadata": {}
        }
      ],
      "source": [
        "# Data Scaling\n",
        "scale_max_dict = {}\n",
        "scale_min_dict = {}\n",
        "\n",
        "for idx in tqdm(range(len(train_data))):\n",
        "    maxi = np.max(train_data.iloc[idx,4:])\n",
        "    mini = np.min(train_data.iloc[idx,4:])\n",
        "\n",
        "    if maxi == mini :\n",
        "        train_data.iloc[idx,4:] = 0\n",
        "    else:\n",
        "        train_data.iloc[idx,4:] = (train_data.iloc[idx,4:] - mini) / (maxi - mini)\n",
        "\n",
        "    scale_max_dict[idx] = maxi\n",
        "    scale_min_dict[idx] = mini"
      ],
      "id": "9509bd54-9333-4ec7-b197-b70d3c1408ef"
    },
    {
      "cell_type": "code",
      "execution_count": null,
      "metadata": {
        "id": "7c83c51b-f979-4930-9372-f03bdb33abc5"
      },
      "outputs": [],
      "source": [
        "# Label Encoding\n",
        "label_encoder = LabelEncoder()\n",
        "categorical_columns = ['대분류', '중분류', '소분류', '브랜드']\n",
        "\n",
        "for col in categorical_columns:\n",
        "    label_encoder.fit(train_data[col])\n",
        "    train_data[col] = label_encoder.transform(train_data[col])"
      ],
      "id": "7c83c51b-f979-4930-9372-f03bdb33abc5"
    },
    {
      "cell_type": "code",
      "execution_count": null,
      "metadata": {
        "id": "debff992-a1f4-4ade-b2e9-45b234e44412"
      },
      "outputs": [],
      "source": [
        "def make_train_data(data, train_size=CFG['TRAIN_WINDOW_SIZE'], predict_size=CFG['PREDICT_SIZE']):\n",
        "    '''\n",
        "    학습 기간 블럭, 예측 기간 블럭의 세트로 데이터를 생성하는 함수\n",
        "    data : 일별 판매량 데이터\n",
        "    train_size : 학습에 활용할 기간의 크기 (기본값은 90)\n",
        "    predict_size : 추론할 기간의 크기 (기본값은 21)\n",
        "    '''\n",
        "    num_rows = len(data)  # 데이터의 총 행 개수를 구합니다.\n",
        "    window_size = train_size + predict_size  # 학습 기간과 예측 기간을 더한 전체 윈도우 크기를 구합니다.\n",
        "\n",
        "    # 입력 데이터와 타겟 데이터를 저장할 빈 배열을 생성합니다.\n",
        "    input_data = np.empty((num_rows * (len(data.columns) - window_size + 1), train_size, len(data.iloc[0, :4]) + 1))\n",
        "    target_data = np.empty((num_rows * (len(data.columns) - window_size + 1), predict_size))\n",
        "\n",
        "    for i in tqdm(range(num_rows)):\n",
        "        encode_info = np.array(data.iloc[i, :4])  # 상품 및 지역 인코딩 정보를 배열로 변환합니다.\n",
        "        sales_data = np.array(data.iloc[i, 4:])  # 판매량 데이터를 배열로 변환합니다.\n",
        "\n",
        "        for j in range(len(sales_data) - window_size + 1):\n",
        "            # 현재 윈도우 내의 학습 기간과 판매량 데이터를 잘라서 입력 데이터로 만듭니다.\n",
        "            window = sales_data[j : j + window_size]\n",
        "            temp_data = np.column_stack((np.tile(encode_info, (train_size, 1)), window[:train_size]))\n",
        "            input_data[i * (len(data.columns) - window_size + 1) + j] = temp_data\n",
        "            target_data[i * (len(data.columns) - window_size + 1) + j] = window[train_size:]\n",
        "\n",
        "    return input_data, target_data\n"
      ],
      "id": "debff992-a1f4-4ade-b2e9-45b234e44412"
    },
    {
      "cell_type": "code",
      "execution_count": null,
      "metadata": {
        "id": "9bf39b0f-64f4-4126-9a3d-da5de9f624d5"
      },
      "outputs": [],
      "source": [
        "def make_predict_data(data, train_size=CFG['TRAIN_WINDOW_SIZE']):\n",
        "    '''\n",
        "    평가 데이터(Test Dataset)를 추론하기 위한 Input 데이터를 생성하는 함수\n",
        "    data : 일별 판매량 데이터\n",
        "    train_size : 추론을 위해 필요한 일별 판매량 기간 (기본값은 학습에 활용할 기간인 90)\n",
        "    '''\n",
        "    num_rows = len(data)  # 데이터의 총 행 개수를 구합니다.\n",
        "\n",
        "    # 추론을 위한 입력 데이터를 저장할 빈 배열을 생성합니다.\n",
        "    input_data = np.empty((num_rows, train_size, len(data.iloc[0, :4]) + 1))\n",
        "\n",
        "    for i in tqdm(range(num_rows)):\n",
        "        encode_info = np.array(data.iloc[i, :4])  # 상품 및 지역 인코딩 정보를 배열로 변환합니다.\n",
        "        sales_data = np.array(data.iloc[i, -train_size:])  # 추론을 위해 필요한 일별 판매량 데이터를 배열로 변환합니다.\n",
        "\n",
        "        # 추론을 위한 윈도우 크기에 해당하는 입력 데이터를 생성합니다.\n",
        "        window = sales_data[-train_size : ]\n",
        "        temp_data = np.column_stack((np.tile(encode_info, (train_size, 1)), window[:train_size]))\n",
        "        input_data[i] = temp_data\n",
        "\n",
        "    return input_data\n"
      ],
      "id": "9bf39b0f-64f4-4126-9a3d-da5de9f624d5"
    },
    {
      "cell_type": "code",
      "execution_count": null,
      "metadata": {
        "id": "3c203f18-dfe9-430a-8082-f1143267b296",
        "colab": {
          "base_uri": "https://localhost:8080/",
          "height": 261
        },
        "outputId": "b80ffae6-0769-4169-d812-1ff84bc5118e"
      },
      "outputs": [
        {
          "output_type": "error",
          "ename": "NameError",
          "evalue": "ignored",
          "traceback": [
            "\u001b[0;31m---------------------------------------------------------------------------\u001b[0m",
            "\u001b[0;31mNameError\u001b[0m                                 Traceback (most recent call last)",
            "\u001b[0;32m<ipython-input-1-3f6084fce090>\u001b[0m in \u001b[0;36m<cell line: 2>\u001b[0;34m()\u001b[0m\n\u001b[1;32m      1\u001b[0m \u001b[0;31m# 학습 데이터(train_data)를 활용하여 학습용 입력 데이터(train_input)와 학습용 타겟 데이터(train_target)를 생성합니다.\u001b[0m\u001b[0;34m\u001b[0m\u001b[0;34m\u001b[0m\u001b[0m\n\u001b[0;32m----> 2\u001b[0;31m \u001b[0mtrain_input\u001b[0m\u001b[0;34m,\u001b[0m \u001b[0mtrain_target\u001b[0m \u001b[0;34m=\u001b[0m \u001b[0mmake_train_data\u001b[0m\u001b[0;34m(\u001b[0m\u001b[0mtrain_data\u001b[0m\u001b[0;34m)\u001b[0m\u001b[0;34m\u001b[0m\u001b[0;34m\u001b[0m\u001b[0m\n\u001b[0m\u001b[1;32m      3\u001b[0m \u001b[0;34m\u001b[0m\u001b[0m\n\u001b[1;32m      4\u001b[0m \u001b[0;31m# 학습 데이터(train_data)를 활용하여 추론용 입력 데이터(test_input)를 생성합니다.\u001b[0m\u001b[0;34m\u001b[0m\u001b[0;34m\u001b[0m\u001b[0m\n\u001b[1;32m      5\u001b[0m \u001b[0mtest_input\u001b[0m \u001b[0;34m=\u001b[0m \u001b[0mmake_predict_data\u001b[0m\u001b[0;34m(\u001b[0m\u001b[0mtrain_data\u001b[0m\u001b[0;34m)\u001b[0m\u001b[0;34m\u001b[0m\u001b[0;34m\u001b[0m\u001b[0m\n",
            "\u001b[0;31mNameError\u001b[0m: name 'make_train_data' is not defined"
          ]
        }
      ],
      "source": [
        "# 학습 데이터(train_data)를 활용하여 학습용 입력 데이터(train_input)와 학습용 타겟 데이터(train_target)를 생성합니다.\n",
        "train_input, train_target = make_train_data(train_data)\n",
        "\n",
        "# 학습 데이터(train_data)를 활용하여 추론용 입력 데이터(test_input)를 생성합니다.\n",
        "test_input = make_predict_data(train_data)\n"
      ],
      "id": "3c203f18-dfe9-430a-8082-f1143267b296"
    },
    {
      "cell_type": "code",
      "execution_count": null,
      "metadata": {
        "id": "3c710abd-1be0-4926-803f-c732d7bffdb5"
      },
      "outputs": [],
      "source": [
        "# Train / Validation Split\n",
        "# train_input과 train_target을 학습용 데이터와 검증용 데이터로 분할합니다.\n",
        "\n",
        "# 학습용 데이터(train_input, train_target)의 전체 길이를 저장합니다.\n",
        "data_len = len(train_input)\n",
        "\n",
        "# 학습용 데이터의 20%를 검증용 데이터로 분할하기 위해, 전체 길이의 20%에 해당하는 부분을 잘라냅니다.\n",
        "# int(data_len*0.2)는 전체 길이의 20%에 해당하는 정수값을 의미합니다.\n",
        "# 검증용 데이터의 크기가 전체 길이의 20%가 되도록 학습용 데이터와 검증용 데이터로 나눕니다.\n",
        "val_input = train_input[-int(data_len*0.2):] # 뒤에서부터 20%에 해당하는 부분을 검증용 데이터로 저장\n",
        "val_target = train_target[-int(data_len*0.2):] # 뒤에서부터 20%에 해당하는 부분을 검증용 타겟 데이터로 저장\n",
        "\n",
        "# 검증용 데이터로 잘라낸 나머지 부분은 학습용 데이터로 사용합니다.\n",
        "train_input = train_input[:-int(data_len*0.2)] # 뒤에서부터 20%를 제외한 부분을 학습용 데이터로 저장\n",
        "train_target = train_target[:-int(data_len*0.2)] # 뒤에서부터 20%를 제외한 부분을 학습용 타겟 데이터로 저장\n"
      ],
      "id": "3c710abd-1be0-4926-803f-c732d7bffdb5"
    },
    {
      "cell_type": "code",
      "execution_count": null,
      "metadata": {
        "id": "3be176ad-ccc8-425c-9627-f583c0647489"
      },
      "outputs": [],
      "source": [
        "# 학습용 데이터와 검증용 데이터, 그리고 테스트 데이터의 크기(shape)를 확인하는 코드입니다.\n",
        "\n",
        "# 학습용 데이터(train_input)의 크기를 확인합니다. train_input은 3차원 배열이며, (데이터 개수, 학습 기간, 특성 개수)의 크기를 가집니다.\n",
        "# 예를 들어, (1000, 90, 5)라면 데이터 개수가 1000개이고, 학습 기간이 90일, 특성 개수가 5개인 학습용 데이터입니다.\n",
        "# train_input.shape\n",
        "\n",
        "# 학습용 타겟 데이터(train_target)의 크기를 확인합니다. train_target은 2차원 배열이며, (데이터 개수, 예측 기간)의 크기를 가집니다.\n",
        "# 예를 들어, (1000, 21)이라면 데이터 개수가 1000개이고, 예측 기간이 21일인 학습용 타겟 데이터입니다.\n",
        "# train_target.shape\n",
        "\n",
        "# 검증용 데이터(val_input)의 크기를 확인합니다. val_input은 3차원 배열이며, (데이터 개수, 학습 기간, 특성 개수)의 크기를 가집니다.\n",
        "# 예를 들어, (200, 90, 5)라면 데이터 개수가 200개이고, 학습 기간이 90일, 특성 개수가 5개인 검증용 데이터입니다.\n",
        "# val_input.shape\n",
        "\n",
        "# 검증용 타겟 데이터(val_target)의 크기를 확인합니다. val_target은 2차원 배열이며, (데이터 개수, 예측 기간)의 크기를 가집니다.\n",
        "# 예를 들어, (200, 21)이라면 데이터 개수가 200개이고, 예측 기간이 21일인 검증용 타겟 데이터입니다.\n",
        "# val_target.shape\n",
        "\n",
        "# 테스트 데이터(test_input)의 크기를 확인합니다. test_input은 3차원 배열이며, (데이터 개수, 학습 기간, 특성 개수)의 크기를 가집니다.\n",
        "# 예를 들어, (500, 90, 5)라면 데이터 개수가 500개이고, 학습 기간이 90일, 특성 개수가 5개인 테스트 데이터입니다.\n",
        "# test_input.shape\n",
        "\n",
        "train_input.shape, train_target.shape, val_input.shape, val_target.shape, test_input.shape"
      ],
      "id": "3be176ad-ccc8-425c-9627-f583c0647489"
    },
    {
      "cell_type": "markdown",
      "metadata": {
        "id": "3b2f3d76-fcf4-4866-a578-6bb76783bbed"
      },
      "source": [
        "### Custom Dataset"
      ],
      "id": "3b2f3d76-fcf4-4866-a578-6bb76783bbed"
    },
    {
      "cell_type": "code",
      "execution_count": null,
      "metadata": {
        "id": "M7zW1R8PkJTV"
      },
      "outputs": [],
      "source": [
        "class CustomDataset(Dataset):\n",
        "    def __init__(self, data, train_size=CFG['TRAIN_WINDOW_SIZE'], predict_size=CFG['PREDICT_SIZE'], is_inference=False):\n",
        "        self.data = data.values # convert DataFrame to numpy array\n",
        "        self.train_size = train_size\n",
        "        self.predict_size = predict_size\n",
        "        self.window_size = self.train_size + self.predict_size\n",
        "        self.is_inference = is_inference\n",
        "\n",
        "    def __len__(self):\n",
        "        if self.is_inference:\n",
        "            return len(self.data)\n",
        "        else:\n",
        "            return self.data.shape[0] * (self.data.shape[1] - self.window_size - 3)\n",
        "\n",
        "    def __getitem__(self, idx):\n",
        "        if self.is_inference:\n",
        "            # 추론 시\n",
        "            encode_info = self.data[idx, :4]\n",
        "            window = self.data[idx, -self.train_size:]\n",
        "            input_data = np.column_stack((np.tile(encode_info, (self.train_size, 1)), window))\n",
        "            return input_data\n",
        "        else:\n",
        "            # 학습 시\n",
        "            row = idx // (self.data.shape[1] - self.window_size - 3)\n",
        "            col = idx % (self.data.shape[1] - self.window_size - 3)\n",
        "            encode_info = self.data[row, :4]\n",
        "            sales_data = self.data[row, 4:]\n",
        "            window = sales_data[col : col + self.window_size]\n",
        "            input_data = np.column_stack((np.tile(encode_info, (self.train_size, 1)), window[:self.train_size]))\n",
        "            target_data = window[self.train_size:]\n",
        "            return input_data, target_data"
      ],
      "id": "M7zW1R8PkJTV"
    },
    {
      "cell_type": "markdown",
      "metadata": {
        "id": "GPZvceYaj1cZ"
      },
      "source": [
        "### Custom Data Set 생성"
      ],
      "id": "GPZvceYaj1cZ"
    },
    {
      "cell_type": "code",
      "execution_count": null,
      "metadata": {
        "id": "0A07o2yFj4H9"
      },
      "outputs": [],
      "source": [
        "# CustomDataset 인스턴스 생성\n",
        "dataset = CustomDataset(train_data)\n",
        "\n",
        "# 전체 데이터셋의 크기\n",
        "total_size = len(dataset)\n",
        "\n",
        "# 분리할 데이터셋의 크기 계산\n",
        "train_size = int(total_size * 0.8)\n",
        "val_size = total_size - train_size\n",
        "\n",
        "# random_split 함수를 사용해 데이터셋 분리\n",
        "train_dataset, val_dataset = random_split(dataset, [train_size, val_size])\n",
        "\n",
        "# DataLoader 인스턴스 생성\n",
        "train_loader = DataLoader(train_dataset, batch_size=CFG['BATCH_SIZE'], shuffle=True)\n",
        "val_loader = DataLoader(val_dataset, batch_size=CFG['BATCH_SIZE'], shuffle=False)"
      ],
      "id": "0A07o2yFj4H9"
    },
    {
      "cell_type": "code",
      "execution_count": null,
      "metadata": {
        "id": "4ec0a970-4d99-486d-b9b5-210f3cdca353"
      },
      "outputs": [],
      "source": [
        "# # CustomDataset 클래스는 PyTorch의 Dataset 클래스를 상속하여 사용자 정의 데이터셋을 만드는 코드입니다.\n",
        "\n",
        "# # 클래스 정의 시작\n",
        "# class CustomDataset(Dataset):\n",
        "#     # 클래스의 생성자 메서드로, 객체가 생성될 때 호출됩니다.\n",
        "#     def __init__(self, X, Y):\n",
        "#         # X와 Y는 학습 데이터와 타겟 데이터를 의미합니다.\n",
        "#         # X: 학습 데이터, Y: 타겟 데이터\n",
        "#         self.X = X\n",
        "#         self.Y = Y\n",
        "\n",
        "#     # 클래스의 인덱스로 접근할 때 호출되는 메서드입니다.\n",
        "#     def __getitem__(self, index):\n",
        "#         # 타겟 데이터가 None이 아닌 경우 (학습 데이터와 타겟 데이터가 모두 제공되는 경우)\n",
        "#         if self.Y is not None:\n",
        "#             # 학습 데이터와 타겟 데이터를 각각 Tensor 형태로 변환하여 반환합니다.\n",
        "#             # index에 해당하는 X와 Y를 Tensor로 변환하여 반환합니다.\n",
        "#             return torch.Tensor(self.X[index]), torch.Tensor(self.Y[index])\n",
        "#         # 타겟 데이터가 None인 경우 (테스트 데이터인 경우)\n",
        "#         # 학습 데이터만 제공되며, X만 Tensor 형태로 변환하여 반환합니다.\n",
        "#         return torch.Tensor(self.X[index])\n",
        "\n",
        "#     # 데이터셋의 총 샘플 개수를 반환하는 메서드입니다.\n",
        "#     def __len__(self):\n",
        "#         # 학습 데이터의 총 샘플 개수를 반환합니다.\n",
        "#         return len(self.X)\n",
        "\n",
        "# # 클래스 정의 종료\n"
      ],
      "id": "4ec0a970-4d99-486d-b9b5-210f3cdca353"
    },
    {
      "cell_type": "code",
      "execution_count": null,
      "metadata": {
        "id": "3614347b-da14-466f-9d04-b81e5448a9bd"
      },
      "outputs": [],
      "source": [
        "# CustomDataset을 활용하여 학습 데이터와 검증 데이터에 대한 DataLoader를 생성하는 코드입니다.\n",
        "\n",
        "# # train_dataset: 학습 데이터셋 객체 생성\n",
        "# train_dataset = CustomDataset(train_input, train_target)\n",
        "\n",
        "# # train_loader: 학습 데이터셋을 DataLoader로 묶어줍니다.\n",
        "# # DataLoader는 배치 크기(batch_size)만큼 데이터를 묶어주는 역할을 합니다.\n",
        "# # shuffle=True로 설정하여 데이터를 랜덤하게 섞어주며, num_workers=0으로 설정하여 데이터 로딩에 사용되는 프로세스 개수를 지정합니다.\n",
        "# train_loader = DataLoader(train_dataset, batch_size=CFG['BATCH_SIZE'], shuffle=True, num_workers=0)\n",
        "\n",
        "# # val_dataset: 검증 데이터셋 객체 생성\n",
        "# val_dataset = CustomDataset(val_input, val_target)\n",
        "\n",
        "# # val_loader: 검증 데이터셋을 DataLoader로 묶어줍니다.\n",
        "# # DataLoader는 배치 크기(batch_size)만큼 데이터를 묶어주는 역할을 합니다.\n",
        "# # shuffle=False로 설정하여 검증 데이터는 섞지 않고 순서대로 사용합니다.\n",
        "# # num_workers=0으로 설정하여 데이터 로딩에 사용되는 프로세스 개수를 지정합니다.\n",
        "# val_loader = DataLoader(val_dataset, batch_size=CFG['BATCH_SIZE'], shuffle=False, num_workers=0)\n"
      ],
      "id": "3614347b-da14-466f-9d04-b81e5448a9bd"
    },
    {
      "cell_type": "markdown",
      "metadata": {
        "id": "c63f0b66-817d-49ff-9163-a975fb0f239d"
      },
      "source": [
        "### 모델 선언"
      ],
      "id": "c63f0b66-817d-49ff-9163-a975fb0f239d"
    },
    {
      "cell_type": "code",
      "execution_count": null,
      "metadata": {
        "id": "7927d7ef-e6dd-4ac4-8b89-e3a216c37e5a"
      },
      "outputs": [],
      "source": [
        "# BaseModel 클래스는 PyTorch의 nn.Module을 상속받아서 사용자 정의 모델을 정의하는 코드입니다.\n",
        "\n",
        "class BaseModel(nn.Module):\n",
        "    def __init__(self, input_size=5, hidden_size=512, output_size=CFG['PREDICT_SIZE']):\n",
        "        super(BaseModel, self).__init__()\n",
        "\n",
        "        # 모델의 기본 구조를 정의합니다.\n",
        "        self.hidden_size = hidden_size\n",
        "        self.lstm = nn.LSTM(input_size, hidden_size, batch_first=True)  # LSTM 레이어를 정의합니다.\n",
        "        self.fc = nn.Sequential(\n",
        "            nn.Linear(hidden_size, hidden_size // 2),  # Fully connected 레이어를 정의합니다. 입력 크기를 hidden_size에서 hidden_size // 2로 줄입니다.\n",
        "            nn.ReLU(),  # 활성화 함수로 ReLU를 사용합니다.\n",
        "            nn.Dropout(),  # Dropout을 적용합니다. 모델을 학습할 때 일부 뉴런을 랜덤하게 끄는 것으로 과적합을 방지합니다.\n",
        "            # 최종 출력 크기를 output_size로 설정합니다.\n",
        "            # 수정\n",
        "            nn.Linear(hidden_size//2, hidden_size//4),\n",
        "            nn.ReLU(),\n",
        "            nn.Dropout(),\n",
        "            nn.Linear(hidden_size//4, output_size)\n",
        "        )\n",
        "        self.actv = nn.ReLU()  # 모델의 출력에 ReLU 활성화 함수를 적용합니다.\n",
        "\n",
        "    def forward(self, x):\n",
        "        # 모델의 순전파를 정의합니다.\n",
        "        # x shape: (B, TRAIN_WINDOW_SIZE, 5) (B: 배치 크기, TRAIN_WINDOW_SIZE: 학습 기간, 5: 입력 특성의 개수)\n",
        "\n",
        "        batch_size = x.size(0)  # 배치 크기를 구합니다.\n",
        "\n",
        "        # LSTM의 초기 hidden state와 cell state를 초기화합니다.\n",
        "        hidden = self.init_hidden(batch_size, x.device)\n",
        "\n",
        "        # LSTM 레이어에 입력을 주고 출력을 받습니다.\n",
        "        lstm_out, hidden = self.lstm(x, hidden)\n",
        "\n",
        "        # 마지막 시퀀스의 출력만 사용합니다.\n",
        "        last_output = lstm_out[:, -1, :]\n",
        "\n",
        "        # Fully connected 레이어에 마지막 출력을 넣고 활성화 함수를 적용합니다.\n",
        "        output = self.actv(self.fc(last_output))\n",
        "\n",
        "        return output.squeeze(1)  # 출력을 1차원으로 변환하여 반환합니다.\n",
        "\n",
        "    def init_hidden(self, batch_size, device):\n",
        "        # LSTM 레이어의 초기 hidden state와 cell state를 0으로 초기화합니다.\n",
        "        return (torch.zeros(1, batch_size, self.hidden_size, device=device),\n",
        "                torch.zeros(1, batch_size, self.hidden_size, device=device))\n"
      ],
      "id": "7927d7ef-e6dd-4ac4-8b89-e3a216c37e5a"
    },
    {
      "cell_type": "markdown",
      "metadata": {
        "id": "b4f79f7d"
      },
      "source": [
        "### 모델 학습"
      ],
      "id": "b4f79f7d"
    },
    {
      "cell_type": "code",
      "execution_count": null,
      "metadata": {
        "id": "ff73d757-32d5-4868-afbb-1b9f2ea13826"
      },
      "outputs": [],
      "source": [
        "def train(model, optimizer, train_loader, val_loader, device):\n",
        "    # 모델을 지정한 디바이스로 이동합니다.\n",
        "    model.to(device)\n",
        "\n",
        "    # 손실 함수로 평균 제곱 오차(Mean Squared Error, MSE)를 사용합니다.\n",
        "    criterion = nn.MSELoss().to(device)\n",
        "\n",
        "    # 최적의 손실값을 저장하기 위한 변수를 초기화합니다.\n",
        "    best_loss = 9999999\n",
        "    best_model = None\n",
        "\n",
        "    # 지정한 에폭(Epochs)만큼 학습을 진행합니다.\n",
        "    for epoch in range(1, CFG['EPOCHS'] + 1):\n",
        "        # 모델을 학습 모드로 변경합니다.\n",
        "        model.train()\n",
        "\n",
        "        # 학습 손실과 평균 절대 오차(Mean Absolute Error, MAE)를 저장하기 위한 리스트를 초기화합니다.\n",
        "        train_loss = []\n",
        "        train_mae = []\n",
        "\n",
        "        # 학습 데이터 로더에서 데이터를 순회합니다.\n",
        "        for X, Y in tqdm(iter(train_loader)):\n",
        "            X = X.float().to(device)\n",
        "            Y = Y.float().to(device)\n",
        "\n",
        "            # 기울기를 초기화합니다.\n",
        "            optimizer.zero_grad()\n",
        "\n",
        "            # 모델에 입력 데이터를 주고 예측을 수행합니다.\n",
        "            output = model(X)\n",
        "\n",
        "            # 손실 값을 계산합니다.\n",
        "            loss = criterion(output, Y)\n",
        "\n",
        "            # 역전파를 수행하여 기울기를 계산하고 가중치를 업데이트합니다.\n",
        "            loss.backward()\n",
        "            optimizer.step()\n",
        "\n",
        "            # 학습 손실과 평균 절대 오차를 저장합니다.\n",
        "            train_loss.append(loss.item())\n",
        "\n",
        "        # 검증 데이터를 사용하여 모델의 성능을 평가합니다.\n",
        "        val_loss = validation(model, val_loader, criterion, device)\n",
        "\n",
        "        # 에폭별로 학습 손실과 검증 손실을 출력합니다.\n",
        "        print(f'Epoch : [{epoch}] Train Loss : [{np.mean(train_loss):.5f}] Val Loss : [{val_loss:.5f}]')\n",
        "\n",
        "        # 현재까지의 최적 손실보다 더 좋은 모델이라면 모델과 손실 값을 업데이트합니다.\n",
        "        if best_loss > val_loss:\n",
        "            best_loss = val_loss\n",
        "            best_model = model\n",
        "            print('Model Saved')\n",
        "\n",
        "    # 학습이 끝난 후, 가장 좋은 모델을 반환합니다.\n",
        "    return best_model\n"
      ],
      "id": "ff73d757-32d5-4868-afbb-1b9f2ea13826"
    },
    {
      "cell_type": "code",
      "execution_count": null,
      "metadata": {
        "id": "bbe1802a-35ff-4b43-a1a8-16c8079baf68"
      },
      "outputs": [],
      "source": [
        "def validation(model, val_loader, criterion, device):\n",
        "    # 모델을 평가 모드로 변경합니다.\n",
        "    model.eval()\n",
        "\n",
        "    # 검증 손실을 저장하기 위한 리스트를 초기화합니다.\n",
        "    val_loss = []\n",
        "\n",
        "    # 평가 과정에서는 기울기 계산과 파라미터 업데이트가 필요 없으므로 torch.no_grad()를 사용하여 계산을 비활성화합니다.\n",
        "    with torch.no_grad():\n",
        "        # 검증 데이터 로더에서 데이터를 순회합니다.\n",
        "        for X, Y in tqdm(iter(val_loader)):\n",
        "            # X = X.to(device)\n",
        "            # Y = Y.to(device)\n",
        "            X = X.float().to(device)\n",
        "            Y = Y.float().to(device)\n",
        "            # 모델에 입력 데이터를 주고 예측을 수행합니다.\n",
        "            output = model(X)\n",
        "\n",
        "            # 손실 값을 계산합니다.\n",
        "            loss = criterion(output, Y)\n",
        "\n",
        "            # 검증 손실을 리스트에 저장합니다.\n",
        "            val_loss.append(loss.item())\n",
        "\n",
        "    # 평균 검증 손실을 반환합니다.\n",
        "    return np.mean(val_loss)\n"
      ],
      "id": "bbe1802a-35ff-4b43-a1a8-16c8079baf68"
    },
    {
      "cell_type": "markdown",
      "metadata": {
        "id": "1c83fa73-30d5-489c-852b-d655f76a200c"
      },
      "source": [
        "## Run !!"
      ],
      "id": "1c83fa73-30d5-489c-852b-d655f76a200c"
    },
    {
      "cell_type": "code",
      "execution_count": null,
      "metadata": {
        "id": "a1570b00-a309-4e5e-b53d-5848ba53eb19"
      },
      "outputs": [],
      "source": [
        "model = BaseModel()  # BaseModel 클래스로부터 모델 객체를 생성합니다.\n",
        "\n",
        "optimizer = torch.optim.Adam(params=model.parameters(), lr=CFG[\"LEARNING_RATE\"])\n",
        "# Adam 옵티마이저를 생성합니다. 옵티마이저의 파라미터로 모델의 파라미터들을 전달합니다.\n",
        "# 학습률은 CFG 딕셔너리에 저장된 'LEARNING_RATE' 값으로 설정합니다.\n",
        "\n",
        "infer_model = train(model, optimizer, train_loader, val_loader, device)\n",
        "# train 함수를 호출하여 모델을 학습시킵니다.\n",
        "# 입력으로 모델, 옵티마이저, 학습용 데이터 로더, 검증용 데이터 로더, 그리고 디바이스를 전달합니다.\n",
        "# 학습이 끝난 후 최적의 모델이 반환되어 infer_model 변수에 저장됩니다.\n"
      ],
      "id": "a1570b00-a309-4e5e-b53d-5848ba53eb19"
    },
    {
      "cell_type": "markdown",
      "metadata": {
        "id": "36b20af7-f5b1-4a7a-8eb9-7dde5bbf3d04"
      },
      "source": [
        "## 모델 추론"
      ],
      "id": "36b20af7-f5b1-4a7a-8eb9-7dde5bbf3d04"
    },
    {
      "cell_type": "code",
      "execution_count": null,
      "metadata": {
        "id": "b01d7ca0-899e-4515-a43e-890549f8f3c7"
      },
      "outputs": [],
      "source": [
        "test_dataset = CustomDataset(test_input, None)\n",
        "# CustomDataset 클래스를 이용하여 추론용(test) 데이터셋을 생성합니다.\n",
        "# test_input은 추론을 위해 사용할 일별 판매량 데이터이며,\n",
        "# test_target은 추론 과정에서는 필요하지 않기 때문에 None으로 설정합니다.\n",
        "\n",
        "test_loader = DataLoader(test_dataset, batch_size=CFG['BATCH_SIZE'], shuffle=False, num_workers=0)\n",
        "# DataLoader를 사용하여 추론용 데이터셋을 미니배치 단위로 나눕니다.\n",
        "# 추론 과정에서는 shuffle을 False로 설정하여 데이터를 섞지 않고,\n",
        "# num_workers는 데이터 로딩에 사용할 스레드 수를 지정합니다.\n",
        "# batch_size는 CFG 딕셔너리에 저장된 'BATCH_SIZE' 값으로 설정합니다.\n"
      ],
      "id": "b01d7ca0-899e-4515-a43e-890549f8f3c7"
    },
    {
      "cell_type": "code",
      "execution_count": null,
      "metadata": {
        "id": "214f30d4-2b19-479f-89b7-bf5bb2adc111"
      },
      "outputs": [],
      "source": [
        "def inference(model, test_loader, device):\n",
        "    # 예측 결과를 저장할 빈 리스트 생성\n",
        "    predictions = []\n",
        "\n",
        "    # 추론 과정에서는 기울기 계산이 필요 없으므로 torch.no_grad()를 사용하여 연산 최적화\n",
        "    with torch.no_grad():\n",
        "        # test_loader에서 배치 단위로 데이터를 가져와서 예측 수행\n",
        "        for X in tqdm(iter(test_loader)):\n",
        "            # X를 device(GPU 또는 CPU)로 이동\n",
        "            X = X.to(device)\n",
        "\n",
        "            # 모델에 입력 데이터 X를 전달하여 예측 수행\n",
        "            output = model(X)\n",
        "\n",
        "            # 모델 출력인 output을 CPU로 이동하고 numpy 배열로 변환하여 저장\n",
        "            output = output.cpu().numpy()\n",
        "\n",
        "            # 예측 결과를 predictions 리스트에 추가\n",
        "            predictions.extend(output)\n",
        "\n",
        "    # 모든 배치에 대한 예측 결과를 numpy 배열로 변환하여 반환\n",
        "    return np.array(predictions)\n"
      ],
      "id": "214f30d4-2b19-479f-89b7-bf5bb2adc111"
    },
    {
      "cell_type": "code",
      "execution_count": null,
      "metadata": {
        "id": "6b76e053-6fd2-44a7-8631-d903e7ffa292"
      },
      "outputs": [],
      "source": [
        "# 추론 함수를 호출하여 예측 결과를 얻습니다.\n",
        "pred = inference(infer_model, test_loader, device)\n",
        "\n",
        "# inference 함수는 학습된 모델을 사용하여 추론을 수행하는 함수입니다.\n",
        "# 이 함수는 입력으로 학습된 모델인 infer_model, 추론용 입력 데이터를 가지고 있는 test_loader,\n",
        "# 그리고 모델이 동작하는 디바이스(device)를 인자로 받습니다.\n",
        "\n",
        "# 1. infer_model: 학습된 모델로서, 이전에 학습한 모델인 infer_model이 함수의 첫 번째 인자로 주어집니다.\n",
        "# 이 모델은 이전 단계에서 학습한 결과를 가지고 있어서 추론을 수행할 수 있습니다.\n",
        "\n",
        "# 2. test_loader: 추론용 입력 데이터를 배치 단위로 제공하는 DataLoader로서,\n",
        "# 앞서 준비한 추론용 입력 데이터를 미니배치로 나누어 모델에 전달합니다.\n",
        "# 이렇게 배치 단위로 데이터를 전달하면 모델이 한 번에 여러 데이터를 처리할 수 있어서\n",
        "# 추론 속도를 향상시킬 수 있습니다.\n",
        "\n",
        "# 3. device: 모델이 동작하는 디바이스(GPU 또는 CPU)를 지정합니다.\n",
        "# 만약 CUDA 기능을 지원하는 GPU가 있다면, CUDA로 설정하여 GPU를 사용하여 추론을 가속화할 수 있습니다.\n",
        "# 그렇지 않은 경우 CPU를 사용하여 추론을 수행합니다.\n",
        "\n",
        "# 위 함수는 infer_model과 test_loader를 사용하여 추론을 수행하고, 예측 결과를 numpy 배열로 반환합니다.\n",
        "# 이 결과는 pred 변수에 저장됩니다. 즉, pred에는 모델을 사용하여 추론한 예측 결과가 담겨있습니다.\n",
        "# 이후 이 결과를 활용하여 원하는 후속 작업을 수행할 수 있습니다.\n"
      ],
      "id": "6b76e053-6fd2-44a7-8631-d903e7ffa292"
    },
    {
      "cell_type": "code",
      "execution_count": null,
      "metadata": {
        "id": "517978aa-445a-4ece-9217-432682f71230"
      },
      "outputs": [],
      "source": [
        "# 추론 결과를 inverse scaling\n",
        "for idx in range(len(pred)):\n",
        "    pred[idx, :] = pred[idx, :] * (scale_max_dict[idx] - scale_min_dict[idx]) + scale_min_dict[idx]\n",
        "\n",
        "# 결과 후처리\n",
        "pred = np.round(pred, 0).astype(int)"
      ],
      "id": "517978aa-445a-4ece-9217-432682f71230"
    },
    {
      "cell_type": "code",
      "execution_count": null,
      "metadata": {
        "id": "c90fa77e-fd03-4539-98fe-563fe2a25121"
      },
      "outputs": [],
      "source": [
        "pred.shape"
      ],
      "id": "c90fa77e-fd03-4539-98fe-563fe2a25121"
    },
    {
      "cell_type": "markdown",
      "metadata": {
        "id": "a48b50eb-d2d8-4c2d-a5e7-9607220fd794"
      },
      "source": [
        "## Submission"
      ],
      "id": "a48b50eb-d2d8-4c2d-a5e7-9607220fd794"
    },
    {
      "cell_type": "code",
      "execution_count": null,
      "metadata": {
        "id": "b78c84bb-5dbe-4fb3-aff0-7e229ae29a8d"
      },
      "outputs": [],
      "source": [
        "submit = pd.read_csv('./sample_submission.csv')\n",
        "submit.head()"
      ],
      "id": "b78c84bb-5dbe-4fb3-aff0-7e229ae29a8d"
    },
    {
      "cell_type": "code",
      "execution_count": null,
      "metadata": {
        "id": "2db62d9c-b3ad-440a-8cc7-4897b2e4860f"
      },
      "outputs": [],
      "source": [
        "submit.iloc[:,1:] = pred\n",
        "submit.head()"
      ],
      "id": "2db62d9c-b3ad-440a-8cc7-4897b2e4860f"
    },
    {
      "cell_type": "code",
      "execution_count": null,
      "metadata": {
        "id": "4142f749-f20f-4797-b586-581e5c778297"
      },
      "outputs": [],
      "source": [
        "submit.to_csv('./baseline_submit.csv', index=False)"
      ],
      "id": "4142f749-f20f-4797-b586-581e5c778297"
    }
  ],
  "metadata": {
    "accelerator": "GPU",
    "colab": {
      "machine_shape": "hm",
      "provenance": []
    },
    "kernelspec": {
      "display_name": "Python 3",
      "name": "python3"
    },
    "language_info": {
      "codemirror_mode": {
        "name": "ipython",
        "version": 3
      },
      "file_extension": ".py",
      "mimetype": "text/x-python",
      "name": "python",
      "nbconvert_exporter": "python",
      "pygments_lexer": "ipython3",
      "version": "3.8.10"
    },
    "widgets": {
      "application/vnd.jupyter.widget-state+json": {
        "05c5996f2748438797c3566ea5a76bcc": {
          "model_module": "@jupyter-widgets/controls",
          "model_name": "HBoxModel",
          "model_module_version": "1.5.0",
          "state": {
            "_dom_classes": [],
            "_model_module": "@jupyter-widgets/controls",
            "_model_module_version": "1.5.0",
            "_model_name": "HBoxModel",
            "_view_count": null,
            "_view_module": "@jupyter-widgets/controls",
            "_view_module_version": "1.5.0",
            "_view_name": "HBoxView",
            "box_style": "",
            "children": [
              "IPY_MODEL_c6dc831452314b6cb461a4d08b221e18",
              "IPY_MODEL_5970cfe88d364dd09017b2bcc562a4fb",
              "IPY_MODEL_3e524272e1934d229f03ee21ec990275"
            ],
            "layout": "IPY_MODEL_ddae6f41325344d7b9aaf028af7a3ece"
          }
        },
        "c6dc831452314b6cb461a4d08b221e18": {
          "model_module": "@jupyter-widgets/controls",
          "model_name": "HTMLModel",
          "model_module_version": "1.5.0",
          "state": {
            "_dom_classes": [],
            "_model_module": "@jupyter-widgets/controls",
            "_model_module_version": "1.5.0",
            "_model_name": "HTMLModel",
            "_view_count": null,
            "_view_module": "@jupyter-widgets/controls",
            "_view_module_version": "1.5.0",
            "_view_name": "HTMLView",
            "description": "",
            "description_tooltip": null,
            "layout": "IPY_MODEL_19bbe496ec39488bad95eee68b719f4f",
            "placeholder": "​",
            "style": "IPY_MODEL_d345ce30a1c7462ba9e66e62062898ef",
            "value": "100%"
          }
        },
        "5970cfe88d364dd09017b2bcc562a4fb": {
          "model_module": "@jupyter-widgets/controls",
          "model_name": "FloatProgressModel",
          "model_module_version": "1.5.0",
          "state": {
            "_dom_classes": [],
            "_model_module": "@jupyter-widgets/controls",
            "_model_module_version": "1.5.0",
            "_model_name": "FloatProgressModel",
            "_view_count": null,
            "_view_module": "@jupyter-widgets/controls",
            "_view_module_version": "1.5.0",
            "_view_name": "ProgressView",
            "bar_style": "success",
            "description": "",
            "description_tooltip": null,
            "layout": "IPY_MODEL_6384eb65a1c24c2f8bfba3e34d1b9750",
            "max": 15890,
            "min": 0,
            "orientation": "horizontal",
            "style": "IPY_MODEL_a2993620c33046029e764e06dbbcfc3e",
            "value": 15890
          }
        },
        "3e524272e1934d229f03ee21ec990275": {
          "model_module": "@jupyter-widgets/controls",
          "model_name": "HTMLModel",
          "model_module_version": "1.5.0",
          "state": {
            "_dom_classes": [],
            "_model_module": "@jupyter-widgets/controls",
            "_model_module_version": "1.5.0",
            "_model_name": "HTMLModel",
            "_view_count": null,
            "_view_module": "@jupyter-widgets/controls",
            "_view_module_version": "1.5.0",
            "_view_name": "HTMLView",
            "description": "",
            "description_tooltip": null,
            "layout": "IPY_MODEL_ae8d9ddc7a8540ac8466356145492e14",
            "placeholder": "​",
            "style": "IPY_MODEL_fbf6e02b9e814388882a1e59153b1d62",
            "value": " 15890/15890 [04:43&lt;00:00, 60.35it/s]"
          }
        },
        "ddae6f41325344d7b9aaf028af7a3ece": {
          "model_module": "@jupyter-widgets/base",
          "model_name": "LayoutModel",
          "model_module_version": "1.2.0",
          "state": {
            "_model_module": "@jupyter-widgets/base",
            "_model_module_version": "1.2.0",
            "_model_name": "LayoutModel",
            "_view_count": null,
            "_view_module": "@jupyter-widgets/base",
            "_view_module_version": "1.2.0",
            "_view_name": "LayoutView",
            "align_content": null,
            "align_items": null,
            "align_self": null,
            "border": null,
            "bottom": null,
            "display": null,
            "flex": null,
            "flex_flow": null,
            "grid_area": null,
            "grid_auto_columns": null,
            "grid_auto_flow": null,
            "grid_auto_rows": null,
            "grid_column": null,
            "grid_gap": null,
            "grid_row": null,
            "grid_template_areas": null,
            "grid_template_columns": null,
            "grid_template_rows": null,
            "height": null,
            "justify_content": null,
            "justify_items": null,
            "left": null,
            "margin": null,
            "max_height": null,
            "max_width": null,
            "min_height": null,
            "min_width": null,
            "object_fit": null,
            "object_position": null,
            "order": null,
            "overflow": null,
            "overflow_x": null,
            "overflow_y": null,
            "padding": null,
            "right": null,
            "top": null,
            "visibility": null,
            "width": null
          }
        },
        "19bbe496ec39488bad95eee68b719f4f": {
          "model_module": "@jupyter-widgets/base",
          "model_name": "LayoutModel",
          "model_module_version": "1.2.0",
          "state": {
            "_model_module": "@jupyter-widgets/base",
            "_model_module_version": "1.2.0",
            "_model_name": "LayoutModel",
            "_view_count": null,
            "_view_module": "@jupyter-widgets/base",
            "_view_module_version": "1.2.0",
            "_view_name": "LayoutView",
            "align_content": null,
            "align_items": null,
            "align_self": null,
            "border": null,
            "bottom": null,
            "display": null,
            "flex": null,
            "flex_flow": null,
            "grid_area": null,
            "grid_auto_columns": null,
            "grid_auto_flow": null,
            "grid_auto_rows": null,
            "grid_column": null,
            "grid_gap": null,
            "grid_row": null,
            "grid_template_areas": null,
            "grid_template_columns": null,
            "grid_template_rows": null,
            "height": null,
            "justify_content": null,
            "justify_items": null,
            "left": null,
            "margin": null,
            "max_height": null,
            "max_width": null,
            "min_height": null,
            "min_width": null,
            "object_fit": null,
            "object_position": null,
            "order": null,
            "overflow": null,
            "overflow_x": null,
            "overflow_y": null,
            "padding": null,
            "right": null,
            "top": null,
            "visibility": null,
            "width": null
          }
        },
        "d345ce30a1c7462ba9e66e62062898ef": {
          "model_module": "@jupyter-widgets/controls",
          "model_name": "DescriptionStyleModel",
          "model_module_version": "1.5.0",
          "state": {
            "_model_module": "@jupyter-widgets/controls",
            "_model_module_version": "1.5.0",
            "_model_name": "DescriptionStyleModel",
            "_view_count": null,
            "_view_module": "@jupyter-widgets/base",
            "_view_module_version": "1.2.0",
            "_view_name": "StyleView",
            "description_width": ""
          }
        },
        "6384eb65a1c24c2f8bfba3e34d1b9750": {
          "model_module": "@jupyter-widgets/base",
          "model_name": "LayoutModel",
          "model_module_version": "1.2.0",
          "state": {
            "_model_module": "@jupyter-widgets/base",
            "_model_module_version": "1.2.0",
            "_model_name": "LayoutModel",
            "_view_count": null,
            "_view_module": "@jupyter-widgets/base",
            "_view_module_version": "1.2.0",
            "_view_name": "LayoutView",
            "align_content": null,
            "align_items": null,
            "align_self": null,
            "border": null,
            "bottom": null,
            "display": null,
            "flex": null,
            "flex_flow": null,
            "grid_area": null,
            "grid_auto_columns": null,
            "grid_auto_flow": null,
            "grid_auto_rows": null,
            "grid_column": null,
            "grid_gap": null,
            "grid_row": null,
            "grid_template_areas": null,
            "grid_template_columns": null,
            "grid_template_rows": null,
            "height": null,
            "justify_content": null,
            "justify_items": null,
            "left": null,
            "margin": null,
            "max_height": null,
            "max_width": null,
            "min_height": null,
            "min_width": null,
            "object_fit": null,
            "object_position": null,
            "order": null,
            "overflow": null,
            "overflow_x": null,
            "overflow_y": null,
            "padding": null,
            "right": null,
            "top": null,
            "visibility": null,
            "width": null
          }
        },
        "a2993620c33046029e764e06dbbcfc3e": {
          "model_module": "@jupyter-widgets/controls",
          "model_name": "ProgressStyleModel",
          "model_module_version": "1.5.0",
          "state": {
            "_model_module": "@jupyter-widgets/controls",
            "_model_module_version": "1.5.0",
            "_model_name": "ProgressStyleModel",
            "_view_count": null,
            "_view_module": "@jupyter-widgets/base",
            "_view_module_version": "1.2.0",
            "_view_name": "StyleView",
            "bar_color": null,
            "description_width": ""
          }
        },
        "ae8d9ddc7a8540ac8466356145492e14": {
          "model_module": "@jupyter-widgets/base",
          "model_name": "LayoutModel",
          "model_module_version": "1.2.0",
          "state": {
            "_model_module": "@jupyter-widgets/base",
            "_model_module_version": "1.2.0",
            "_model_name": "LayoutModel",
            "_view_count": null,
            "_view_module": "@jupyter-widgets/base",
            "_view_module_version": "1.2.0",
            "_view_name": "LayoutView",
            "align_content": null,
            "align_items": null,
            "align_self": null,
            "border": null,
            "bottom": null,
            "display": null,
            "flex": null,
            "flex_flow": null,
            "grid_area": null,
            "grid_auto_columns": null,
            "grid_auto_flow": null,
            "grid_auto_rows": null,
            "grid_column": null,
            "grid_gap": null,
            "grid_row": null,
            "grid_template_areas": null,
            "grid_template_columns": null,
            "grid_template_rows": null,
            "height": null,
            "justify_content": null,
            "justify_items": null,
            "left": null,
            "margin": null,
            "max_height": null,
            "max_width": null,
            "min_height": null,
            "min_width": null,
            "object_fit": null,
            "object_position": null,
            "order": null,
            "overflow": null,
            "overflow_x": null,
            "overflow_y": null,
            "padding": null,
            "right": null,
            "top": null,
            "visibility": null,
            "width": null
          }
        },
        "fbf6e02b9e814388882a1e59153b1d62": {
          "model_module": "@jupyter-widgets/controls",
          "model_name": "DescriptionStyleModel",
          "model_module_version": "1.5.0",
          "state": {
            "_model_module": "@jupyter-widgets/controls",
            "_model_module_version": "1.5.0",
            "_model_name": "DescriptionStyleModel",
            "_view_count": null,
            "_view_module": "@jupyter-widgets/base",
            "_view_module_version": "1.2.0",
            "_view_name": "StyleView",
            "description_width": ""
          }
        }
      }
    }
  },
  "nbformat": 4,
  "nbformat_minor": 5
}